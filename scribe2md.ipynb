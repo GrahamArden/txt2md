{
 "cells": [
  {
   "cell_type": "code",
   "execution_count": null,
   "metadata": {},
   "outputs": [],
   "source": [
    "import tkinter as tk\n",
    "from tkinter import filedialog\n",
    "import re\n",
    "\n",
    "\n",
    "# Convert text files from my Kindle Scribe to markdown files\n",
    "# Usage: python3 kindle2md.py <input file> <output file>\n",
    "# The input file should be a text file from the Kindle Scribe\n",
    "# The output file will be a markdown file with the same content\n",
    "\n",
    "root = tk.Tk()\n",
    "root.withdraw()  # Hide the root window\n",
    "\n",
    "input_file = filedialog.askopenfilename(title=\"Select the input text file\", filetypes=[(\"Text files\", \"*.txt\")])\n",
    "output_file = filedialog.asksaveasfilename(title=\"Save as\", defaultextension=\".md\", filetypes=[(\"Markdown files\", \"*.md\")])\n",
    "\n",
    "if not input_file or not output_file:\n",
    "    print(\"File selection cancelled.\")\n",
    "    exit()\n",
    "\n",
    "# Now you can use input_file and output_file for further processing\n",
    "with open(input_file, 'r', encoding='utf-8') as file:\n",
    "    content = file.read()\n",
    "\n"
   ]
  },
  {
   "cell_type": "code",
   "execution_count": null,
   "metadata": {},
   "outputs": [
    {
     "name": "stdout",
     "output_type": "stream",
     "text": [
      "### \n",
      "### Summary\n",
      "-  Initialize variables 'a' and 'b'\n",
      "-  Add 'a' to' b' and save the result as 'c'\n",
      "-  write 'c' to an Excel file\n",
      "-  upload the Excel file to the user's Github account\n",
      "-  Increment 'a' and 'b' by 2\n",
      "-  Repeat the process\n",
      "### \n",
      "### \n",
      "### Iterative Process for Updating Values and Uploading to Github\n",
      "-  start with variables 'a' and 'b'\n",
      "-  Add 'b' to' a' and save the result as'd\n",
      "-  Write 'c' to an Excel file\n",
      "-  Upload the Excel file to the user's Github account\n",
      "-  Increment 'a' and 'b' by 2\n",
      "-  Repeat the process\n",
      "### \n",
      "### \n",
      "### Notes\n",
      "-  start with 'a'\n",
      "-  add to 'b'\n",
      "-  save this as 'c'\n",
      "-  Write this to an Excel file\n",
      "-  Upload the Excel file to my Github account\n",
      "-  Increment the values of 'a' and 'b' by 2.\n",
      "-  Repeat.\n",
      "### \n",
      "### \n",
      "### Notes.\n",
      "- Start with 'a'\n",
      "- Add to 'b'\n",
      "### Save this as 'c'\n",
      "- write this to an Excel\n",
      "### file.\n",
      "### Upload the Excel file to my Github account\n",
      "- Increment the values of 'a' and 'b' by 2.\n",
      "- Repeat.\n"
     ]
    }
   ],
   "source": [
    "import re\n",
    "\n",
    "updated_content = content.replace('◦', '- ')\n",
    "updated_content = re.sub(r'^.*concise summary of.*$', 'Summary', updated_content, flags=re.MULTILINE)\n",
    "updated_content = re.sub(r'^-(?! )', '- ', updated_content, flags=re.MULTILINE)\n",
    "updated_content = re.sub(r'^\\.{3}', '', updated_content, flags=re.MULTILINE)\n",
    "updated_content = re.sub(r'^Page.*', '', updated_content, flags=re.MULTILINE)\n",
    "updated_content = re.sub(r'^(?!- )', '### ', updated_content, flags=re.MULTILINE)\n",
    "print(updated_content)\n",
    "\n",
    "\n",
    "# Write the updated content to the output file\n",
    "with open(output_file, 'w', encoding='utf-8') as file:\n",
    "    file.write(updated_content)"
   ]
  },
  {
   "cell_type": "code",
   "execution_count": null,
   "metadata": {},
   "outputs": [],
   "source": []
  }
 ],
 "metadata": {
  "kernelspec": {
   "display_name": "base",
   "language": "python",
   "name": "python3"
  },
  "language_info": {
   "codemirror_mode": {
    "name": "ipython",
    "version": 3
   },
   "file_extension": ".py",
   "mimetype": "text/x-python",
   "name": "python",
   "nbconvert_exporter": "python",
   "pygments_lexer": "ipython3",
   "version": "3.12.3"
  }
 },
 "nbformat": 4,
 "nbformat_minor": 2
}
